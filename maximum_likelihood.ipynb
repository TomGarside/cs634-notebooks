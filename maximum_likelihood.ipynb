{
 "cells": [
  {
   "cell_type": "markdown",
   "metadata": {
    "id": "TnAHzuk-fygI"
   },
   "source": [
    "# Maximum Likelihood Method\n",
    "\n"
   ]
  },
  {
   "cell_type": "markdown",
   "metadata": {
    "id": "qJgvCczRqlkV"
   },
   "source": [
    "Lets start with a simple Gaussian distribution. "
   ]
  },
  {
   "cell_type": "code",
   "execution_count": 3,
   "metadata": {
    "colab": {
     "base_uri": "https://localhost:8080/",
     "height": 282
    },
    "id": "v1aNtafG0qKQ",
    "outputId": "c6107df6-88c2-4d19-c832-2c04e609f1fa",
    "scrolled": true
   },
   "outputs": [
    {
     "data": {
      "text/plain": [
       "[<matplotlib.lines.Line2D at 0x1a14873ef0>]"
      ]
     },
     "execution_count": 3,
     "metadata": {},
     "output_type": "execute_result"
    }
   ],
   "source": [
    "import numpy as np\n",
    "from scipy.stats import norm\n",
    "import matplotlib.pyplot as plt\n",
    "fig, ax = plt.subplots(1, 1)\n",
    "x = np.linspace(norm.ppf(0.01),\n",
    "                norm.ppf(0.99), 100)\n",
    "ax.plot(x, norm.pdf(x),\n",
    "       'r-', lw=5, alpha=0.6, label='norm pdf')"
   ]
  },
  {
   "cell_type": "markdown",
   "metadata": {
    "id": "3DmWU03fq_G-"
   },
   "source": [
    "We can retrieve the probability of events happening, e.g. x=3.0"
   ]
  },
  {
   "cell_type": "code",
   "execution_count": 5,
   "metadata": {
    "id": "cmOBUIzN2GuZ"
   },
   "outputs": [],
   "source": [
    "p_3 = norm.pdf(3.0, 5.0, 3.0)"
   ]
  },
  {
   "cell_type": "markdown",
   "metadata": {
    "id": "8Jt3N5AgrPZh"
   },
   "source": [
    "We can also easily calculate the joint probability of iid (indepenent and identically distributed) events "
   ]
  },
  {
   "cell_type": "code",
   "execution_count": 6,
   "metadata": {
    "id": "PQ8AYhYt2-9p"
   },
   "outputs": [],
   "source": [
    "p_7 = norm.pdf(7.0, 7.0, 3.0)\n",
    "\n",
    "joint = p_3*p_7"
   ]
  },
  {
   "cell_type": "markdown",
   "metadata": {
    "id": "c5GY7PmgrtEq"
   },
   "source": [
    "Assume now that someone is giving us an array of values and ask us to estimate a $p_{model}$ that is a 'good fit' to the gievn data. How we can go about solving this problem with Maximum Likelihood Estimation (MLE)? Notice that as addressed in [3], probability and likelihood have a reverse relationship.  Probability attaches to possible results; likelihood attaches to hypotheses. The likelihood function gives the relative likelihoods of different values for the parameter(s) of the distribution from which the data are assumed to have been drawn, given those data.\n",
    "\n",
    "Lets plot a couple of $p_{model}$ hypotheses - the data are shown below in the same plot. Both hypotheses are plausible.  "
   ]
  },
  {
   "cell_type": "code",
   "execution_count": 7,
   "metadata": {
    "colab": {
     "base_uri": "https://localhost:8080/",
     "height": 282
    },
    "id": "JLNGc_GI3X7B",
    "outputId": "f6a7572f-1794-4c5c-f42f-3c249e620f6b"
   },
   "outputs": [
    {
     "data": {
      "text/plain": [
       "[<matplotlib.lines.Line2D at 0x1a1577ecf8>]"
      ]
     },
     "execution_count": 7,
     "metadata": {},
     "output_type": "execute_result"
    },
    {
     "data": {
      "image/png": "[encoded data removed]",
      "text/plain": [
       "<Figure size 432x288 with 1 Axes>"
      ]
     },
     "metadata": {
      "needs_background": "light"
     },
     "output_type": "display_data"
    }
   ],
   "source": [
    "data = [4, 5, 7, 8, 8, 9, 10, 5, 2, 3, 5, 4, 8, 9]\n",
    "\n",
    "fig, ax = plt.subplots(1, 1)\n",
    "x = np.linspace(0, 20, 100)\n",
    "ax.plot(x, norm.pdf(x,5,3),\n",
    "       'r-', lw=5, alpha=0.6, label='norm pdf')\n",
    "ax.plot(x, norm.pdf(x,7,3),\n",
    "       'b-', lw=5, alpha=0.6, label='norm pdf')\n",
    "ax.plot(data, np.zeros(len(data)).tolist(),'o')"
   ]
  },
  {
   "cell_type": "markdown",
   "metadata": {
    "id": "-vmuSc_UshjC"
   },
   "source": [
    "As detailed in Ref [2], its important to safeguard against underflow that may well result from multiplying many numbers (for large datasets) that are less than 1.0 (probabilities). So we do the calculations in the log domain using the identity\n",
    "\n",
    "$$log(a \\times b)=log(a) + log(b)$$"
   ]
  },
  {
   "cell_type": "markdown",
   "metadata": {
    "id": "LOTKDRSMtb-r"
   },
   "source": [
    "Lets look at a function that calculates the log-likelihood for the two hypotheses above given the data denoted by $x$. "
   ]
  },
  {
   "cell_type": "code",
   "execution_count": 8,
   "metadata": {
    "id": "8OJewE_D2aA9"
   },
   "outputs": [],
   "source": [
    "def compare_data_to_dist(x, mu_1=5, mu_2=7, sd_1=3, sd_2=3):\n",
    "    ll_1 = 0\n",
    "    ll_2 = 0\n",
    "    for i in x:\n",
    "        ll_1 += np.log(norm.pdf(i, mu_1, sd_1))\n",
    "        ll_2 += np.log(norm.pdf(i, mu_2, sd_2))\n",
    "    \n",
    "    print(\"The LL of of x for mu = %d and sd = %d is: %.4f\" % (mu_1, sd_1, ll_1))\n",
    "    print(\"The LL of of x for mu = %d and sd = %d is: %.4f\" % (mu_2, sd_2, ll_2))\n"
   ]
  },
  {
   "cell_type": "markdown",
   "metadata": {
    "id": "fxXoRssGt4Bu"
   },
   "source": [
    "We can readily compate the two hypotheses according to the maximum likelihood criterion. Note that because the $log$ is a monotonic function, the conclusion as to which hypothesis makes the data more likely is the same in the natural or the $log$ domain. "
   ]
  },
  {
   "cell_type": "code",
   "execution_count": 9,
   "metadata": {
    "colab": {
     "base_uri": "https://localhost:8080/"
    },
    "id": "g5jQmd1b5h3a",
    "outputId": "a4ba2a53-40c9-42f9-97c6-52455d13f73c"
   },
   "outputs": [
    {
     "name": "stdout",
     "output_type": "stream",
     "text": [
      "The LL of of x for mu = 5 and sd = 3 is: -33.9679\n",
      "The LL of of x for mu = 7 and sd = 3 is: -33.3013\n"
     ]
    }
   ],
   "source": [
    "ll_comparison = compare_data_to_dist(data)"
   ]
  },
  {
   "cell_type": "markdown",
   "metadata": {
    "id": "2gPAwYpxu4fc"
   },
   "source": [
    "It seems that the second hypothesis \n",
    "\n",
    "$$p_{model}(x|\\mathbf{w}) = N(x | [\\mu_2, \\sigma_2^2])$$\n",
    "\n",
    "is preferred compared to the first. "
   ]
  },
  {
   "cell_type": "markdown",
   "metadata": {
    "id": "eKwCRfyh_FgY"
   },
   "source": [
    "We can now start searching the hypothesis space (parameter space) for the best parameter set $\\mathbf w$. "
   ]
  },
  {
   "cell_type": "code",
   "execution_count": 10,
   "metadata": {
    "colab": {
     "base_uri": "https://localhost:8080/",
     "height": 598
    },
    "id": "uw-K6S7A7mqA",
    "outputId": "d5bb47cf-5a1b-4c53-9e65-5401fb18d689"
   },
   "outputs": [
    {
     "name": "stdout",
     "output_type": "stream",
     "text": [
      "The max LL for sd 0.50 is 167.88\n",
      "The max LL for sd 1.50 is 36.84\n",
      "The max LL for sd 2.50 is 32.28\n",
      "The max LL for sd 3.50 is 33.77\n",
      "The max LL for sd 4.50 is 35.96\n"
     ]
    },
    {
     "data": {
      "image/png": "[encoded data removed]",
      "text/plain": [
       "<Figure size 360x576 with 1 Axes>"
      ]
     },
     "metadata": {
      "needs_background": "light"
     },
     "output_type": "display_data"
    }
   ],
   "source": [
    "# Plot the Negative Log Likelihood Functions for different values of mu \n",
    "# and sigma\n",
    "def plot_ll(x):\n",
    "    plt.figure(figsize=(5,8))\n",
    "    plt.title(\"Neg Log Likelihood Functions\")\n",
    "    plt.xlabel(\"Mean Estimate\")\n",
    "    plt.ylabel(\"Neg Log Likelihood\")\n",
    "    plt.ylim(30, 60)\n",
    "    plt.xlim(0, 12)\n",
    "    mu_set = np.linspace(0, 16, 1000)\n",
    "    sd_set = [.5, 1.5, 2.5, 3.5, 4.5]\n",
    "    max_val = max_val_location = None\n",
    "    for i in sd_set:\n",
    "        ll_array = []\n",
    "        \n",
    "        for j in mu_set:\n",
    "            temp_mm = 0\n",
    "            \n",
    "            for k in x:\n",
    "                temp_mm += np.log(norm.pdf(k, j, i)) # The LL function\n",
    "            ll_array.append(-temp_mm) # negative LL\n",
    "        \n",
    "            if (max_val is None):\n",
    "                max_val = min(ll_array)\n",
    "            elif max(ll_array) > max_val:\n",
    "                max_val = min(ll_array)\n",
    "                max_val_location = j\n",
    "        \n",
    "        # Plot the results\n",
    "        plt.plot(mu_set, ll_array, label=\"sd: %.1f\" % i)\n",
    "        \n",
    "        print(\"The max LL for sd %.2f is %.2f\" % (i, min(ll_array)))    \n",
    "    plt.axvline(x=max_val_location, color='black', ls='-.')\n",
    "    plt.legend(loc='lower left')\n",
    "plot_ll(data);\n"
   ]
  },
  {
   "cell_type": "markdown",
   "metadata": {
    "id": "fxNMqYYIvi3a"
   },
   "source": [
    "But there is a better method than exhaustively searching in the parameter space. We developed a method that incrementally minimizes a loss function that is ultimately linked to the concept of entropy - the cross entropy (CE) that for the supervided learning problem as shown in the notes has a lot to do with minimizing the KL divergence - a type of probabilistic 'distance' between $\\hat p_{data}$ and $p_{model}$. \n",
    "\n",
    "This method is the Stochastic Gradient Descent. Can ypu estimate the hypothesis for the `data` array above? "
   ]
  },
  {
   "cell_type": "code",
   "execution_count": 29,
   "metadata": {
    "id": "HBv1r6OGQ6WS"
   },
   "outputs": [
    {
     "name": "stdout",
     "output_type": "stream",
     "text": [
      "Steps : 104\n",
      "error : 32.80632212145877\n",
      "Minimum theta: (6.418367346938776, 2.9699791753436067)\n"
     ]
    }
   ],
   "source": [
    "# add your code here\n",
    "from random import choice\n",
    "# log likelyhood function \n",
    "def logLikelyhood(data, mu, sd):\n",
    "    ll = 0 \n",
    "    for e in data:\n",
    "        ll+= np.log(norm.pdf(e, mu, sd))\n",
    "    return -1*ll \n",
    "\n",
    "def gradientFuncA(theta,data):\n",
    "    return (1/theta[0])*(data-theta[1])\n",
    "    \n",
    "\n",
    "def gradientFuncB(theta,data):\n",
    "    return (1/(2*theta[0]))*(1/theta[0])*(data-theta[1]**2)\n",
    "     \n",
    "\n",
    "#Stochastic Gradient Descent function \n",
    "def sdg(data, initial_theta, initialStep):\n",
    "    #constants\n",
    "    MAX_GEN_NO_CHANGE = 100\n",
    "    STEP_DECREASE_RATE = 0.9\n",
    "    gens_no_change = 0 \n",
    "    theta = initial_theta\n",
    "    steps = 0\n",
    "    minTheta = initial_theta\n",
    "    endState = False \n",
    "    minValue = 10000\n",
    "    step = initialStep\n",
    "    \n",
    "    while not endState:\n",
    "        # evaluate log likely hood for new hypothesis \n",
    "        value = logLikelyhood(data,theta[0], theta[1])\n",
    "        \n",
    "        # validate hypothesis \n",
    "        if value < minValue:\n",
    "            # update values if hypothesis is better \n",
    "            minValue = value\n",
    "            minTheta = theta\n",
    "            gens_no_change = 0 \n",
    "            step = initialStep\n",
    "            \n",
    "        else:\n",
    "            # if hypothesis not beter then update \n",
    "            gens_no_change += 1 \n",
    "            # reduce step size\n",
    "            step = step*STEP_DECREASE_RATE\n",
    "            \n",
    "        # update params \n",
    "        \n",
    "        theta = (theta[0]+step*gradientFuncA(theta,choice(data)), theta[1] + step*gradientFuncB(theta, choice(data)))\n",
    "    \n",
    "        endState = gens_no_change >= MAX_GEN_NO_CHANGE \n",
    "        steps +=1\n",
    "         \n",
    "        \n",
    "        #print(theta, value)\n",
    "        \n",
    "\n",
    "    \n",
    "    print(\"Steps :\",steps)\n",
    "    print(\"error :\",logLikelyhood(data,minTheta[0], minTheta[1]))\n",
    "    return minTheta\n",
    "      \n",
    "    \n",
    "print(\"Minimum theta:\",sdg(data,(1,1),1.5))"
   ]
  },
  {
   "cell_type": "markdown",
   "metadata": {},
   "source": [
    "# Stochastic Gradient Descent \n",
    "\n",
    "The above code performs stochastic gradient descent (SGD), this algroithem is used to minimize or maximize a function. \n",
    "in this implimentation the function to be minimized is the log likelyhood function from the previous sections. SGD uses the slope of a function(gradient) at specific points to find parameters that will produce an aproximatly optimal  pmodel that is close the hypothetical  p̂ data. In order to do this a gradient function is used to produce the gradient  at any of the points measured. The gradient function in the code above is the partial derivative of the function being optimized (log likleyhood) for each part of the theata value.  The code above loops until it reaches an end state which is only reached when the function has progresed through a number of generations (set by MAX_GEN_NO_CHANGE) with no improvement. for each generation a new value is computed for the parameters (theta) if the new value is less than the previous minimum the minumum value and the theta that produced that value are updated. Once the value has been evaluated then the gradient is used to update the hypothesis for the next generation. As this is stochastic gradient descent a random point from the dataset is used to calculate the gradient then this gradient value is used to update the theta parameter after multiplying it with the step size then adding it to the previous theta value. The step size is intialy set using a prameter but as the function moves through hypotheses if a new minimum is not found  the step size is reduced to avoid the function oversteping minimum values. Once a minimum is found the step size is returned to its initial value. Finaly the end state of the function is evaluated, if it has moved through a number of generations set by MAX_GEN_NO_CHANGE the end flag is set. The limit on generations with no improvment is used to provide an end for the function so it does not continue to loop infinatly. once the SGD function has completed the minimum Theta values ( the vlaues that produced the minimum value from the function) are returned.        "
   ]
  },
  {
   "cell_type": "markdown",
   "metadata": {
    "id": "7tqGhdCXQjKa"
   },
   "source": [
    "You are given a problem that involves the relationship between $x$ and $y$. Estimate the parameters of a $p_{model}$ that fit the dataset (x,y) shown below.  "
   ]
  },
  {
   "cell_type": "code",
   "execution_count": 27,
   "metadata": {
    "id": "QC-bK31Qgdc_",
    "scrolled": true
   },
   "outputs": [
    {
     "name": "stdout",
     "output_type": "stream",
     "text": [
      "Generations : 88\n",
      "Minimum Error : 613.9817907358706\n",
      "Slope : 0.8835388527216477  Intercept : 0.8483841233788919\n"
     ]
    },
    {
     "data": {
      "image/png": "[encoded data removed]",
      "text/plain": [
       "<Figure size 432x288 with 1 Axes>"
      ]
     },
     "metadata": {
      "needs_background": "light"
     },
     "output_type": "display_data"
    }
   ],
   "source": [
    "x = np.array([8, 16, 22, 33, 50, 51])\n",
    "y = np.array([5, 20, 14, 32, 42, 58])\n",
    "\n",
    "# add your code here\n",
    "from random import randrange\n",
    "\n",
    "# generate array of predictions \n",
    "def getY_pred(x_data,m,b):\n",
    "    y_pred = []\n",
    "    for x in x_data:\n",
    "        y_pred.append((m*x)+b)\n",
    "    return y_pred\n",
    "\n",
    "# MSE function - calculate Mean Squared Error \n",
    "def MSE(x_data,y_data, theta):\n",
    "    \n",
    "    # genearate predictions\n",
    "    y_pred_array = np.asarray(getY_pred(x_data,theta[0],theta[1]))\n",
    "    \n",
    "    # calculate error \n",
    "    return(1/2*len(y_data) * np.sum(np.square(y_pred_array - y_data)))\n",
    "\n",
    "#Stochastic Gradient Descent function \n",
    "def sdg(x,y, initial_theta, initialStep):\n",
    "    #constants\n",
    "    MAX_GEN_NO_CHANGE = 50\n",
    "    STEP_DECREASE_RATE = 0.9\n",
    "    \n",
    "    gens_no_change = 0 \n",
    "    theta = initial_theta\n",
    "    steps = 0\n",
    "    minTheta = initial_theta\n",
    "    endState = False \n",
    "    minValue = 1000000\n",
    "    step = initialStep\n",
    "    \n",
    "    while not endState:\n",
    "        # caculate MSE for new hypothesis \n",
    "        value = MSE(x,y,theta)\n",
    "        \n",
    "      \n",
    "        # validate hypothesis \n",
    "        if value < minValue:\n",
    "            # update values if hypothesis is better \n",
    "            minValue = value\n",
    "            minTheta = theta\n",
    "            gens_no_change = 0 \n",
    "            step = initialStep\n",
    "            \n",
    "            \n",
    "        else:\n",
    "            # if hypothesis not beter then update \n",
    "            gens_no_change += 1 \n",
    "            # reduce step size    \n",
    "            step = step*STEP_DECREASE_RATE\n",
    "        \n",
    "    \n",
    "        \n",
    "            \n",
    "        # update params with gradient functions  \n",
    "        rand_val = randrange(len(x)) \n",
    "        x_choice = x[rand_val]\n",
    "        y_choice = y[rand_val]\n",
    "        gradient_m = ( -2 * x_choice * (y_choice - (theta[0]*x_choice + theta[1])))\n",
    "        gradient_b = ( -2 * (y_choice - (theta[0]*x_choice + theta[1])))\n",
    "        theta = (theta[0] - step * gradient_m ,\n",
    "                 theta[1] - step * gradient_b)\n",
    "    \n",
    "        endState = gens_no_change >= MAX_GEN_NO_CHANGE \n",
    "        steps +=1\n",
    "         \n",
    "        \n",
    "\n",
    "    \n",
    "    print(\"Generations :\",steps)\n",
    "    print(\"Minimum Error :\",MSE(x,y,minTheta))\n",
    "    print(\"Slope :\", theta[0],\" Intercept :\", theta[1] )\n",
    "    \n",
    "    return minTheta\n",
    "      \n",
    "# use SGD to fit line to data     \n",
    "minTheta = sdg(x,y,(2,0),0.001)\n",
    "\n",
    "# plot results \n",
    "plt.plot(x,getY_pred(x,minTheta[0],minTheta[1]), color='blue')\n",
    "plt.plot(x, y, 'o', color='green');\n"
   ]
  },
  {
   "cell_type": "markdown",
   "metadata": {},
   "source": [
    "# Stochastic Gradient Descent Mean Squared Error \n",
    "\n",
    "The above code fits a line to the X and Y data given at the begining of the code block. One method to fit a line to this type of data is to use Stochastic Gradient Descent (SGD) and the Mean Squared Error (MSE) function. With this method we use the MSE function, which calculates the distance between the data values and the predictions from our hypothesis then square and take the mean of the values. The error produced by the MSE function is used to grade our hypothesis. If we look at the code above there are two functions one to generate the array of predictions and another to apply the error function to the model. The main function in the cell is the SGD function, this carries out the minimization,it takes the x and y datasets, an initial theta tuple the initial step size. The function stores the max number of steps with no improvement and the reduction param for the step size as constants. The SGD function then sets up some initial values and begins the main loop. The function uses the endstate variable to determine wether it has reached a minimum value and can return the calculated theta value the MAX_GEN_NO_CHANGE constant is used to trigger the end of the loop once the set number of generations have occured with no improvement in the hypothesis. The first statment in the loop generates the MSE error for the current hypothesis using the helper functions. The MSE is then evaluated if the error is less than the previous minimum value the minimum error and theta are updated and the step size is set back to its initial value. The step size is reset to increase the likleyhood that the function will find a better result, if the step size is allowed to become too small it may never reach an optimal hypothesis. If the hypothesis is not an improvement the the step size is decreased and the count of steps without improvement is increased. After the hypothesis is evaluated the theta values are updated. In this function both the slope and the intercept are updated based on there own gradient functions which are derived from the MSE function. The gradient values are then multiplied with the step value and subtracted from the two theta values to get the new hypothesis. \n",
    "Once enonough generations with no improvement have passed the end condition is set and the loop ends the function then prints some details of the process to the console and returns the selected theta value. \n",
    "Finaly this value along with the provided x and y data points are polted to give a visual representation of the results. \n",
    " "
   ]
  },
  {
   "cell_type": "markdown",
   "metadata": {
    "id": "6BDjtdMFghC5"
   },
   "source": [
    "# References\n",
    "\n",
    "1. https://medium.com/@rrfd/what-is-maximum-likelihood-estimation-examples-in-python-791153818030\n",
    "2. [Section 4.1 - Numerical computation](https://www.deeplearningbook.org/contents/numerical.html)\n",
    "3. [Bayes for beginners - probability and likelihood](https://www.psychologicalscience.org/observer/bayes-for-beginners-probability-and-likelihood) "
   ]
  },
  {
   "cell_type": "code",
   "execution_count": null,
   "metadata": {},
   "outputs": [],
   "source": []
  }
 ],
 "metadata": {
  "colab": {
   "name": "maximum_likelihood.ipynb",
   "provenance": []
  },
  "kernelspec": {
   "display_name": "Python 3",
   "language": "python",
   "name": "python3"
  },
  "language_info": {
   "codemirror_mode": {
    "name": "ipython",
    "version": 3
   },
   "file_extension": ".py",
   "mimetype": "text/x-python",
   "name": "python",
   "nbconvert_exporter": "python",
   "pygments_lexer": "ipython3",
   "version": "3.7.0"
  }
 },
 "nbformat": 4,
 "nbformat_minor": 1
}
